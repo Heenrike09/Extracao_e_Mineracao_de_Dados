{
 "cells": [
  {
   "cell_type": "markdown",
   "metadata": {},
   "source": [
    "# Regressão Linear - SkLearn - parte 2"
   ]
  },
  {
   "cell_type": "markdown",
   "metadata": {},
   "source": [
    "* Regressão linear simples utilizando a biblioteca SkLearn\n",
    "* José Heenrike\n",
    "* jheenrike09@gmail.com "
   ]
  },
  {
   "cell_type": "code",
   "execution_count": 1,
   "metadata": {},
   "outputs": [],
   "source": [
    "# Importando as galerias numpy, pandas e matplotlib\n",
    "import numpy as np\n",
    "import pandas as pd\n",
    "import matplotlib.pyplot as plt"
   ]
  },
  {
   "cell_type": "code",
   "execution_count": 4,
   "metadata": {},
   "outputs": [],
   "source": [
    "# Criando um novo DataFrame chamados dados\n",
    "dados = pd.read_csv('Regresao_Linear.csv')"
   ]
  },
  {
   "cell_type": "code",
   "execution_count": 5,
   "metadata": {},
   "outputs": [
    {
     "data": {
      "text/html": [
       "<div>\n",
       "<style scoped>\n",
       "    .dataframe tbody tr th:only-of-type {\n",
       "        vertical-align: middle;\n",
       "    }\n",
       "\n",
       "    .dataframe tbody tr th {\n",
       "        vertical-align: top;\n",
       "    }\n",
       "\n",
       "    .dataframe thead th {\n",
       "        text-align: right;\n",
       "    }\n",
       "</style>\n",
       "<table border=\"1\" class=\"dataframe\">\n",
       "  <thead>\n",
       "    <tr style=\"text-align: right;\">\n",
       "      <th></th>\n",
       "      <th>X</th>\n",
       "      <th>Y</th>\n",
       "    </tr>\n",
       "  </thead>\n",
       "  <tbody>\n",
       "    <tr>\n",
       "      <th>0</th>\n",
       "      <td>0.00000</td>\n",
       "      <td>-11.656137</td>\n",
       "    </tr>\n",
       "    <tr>\n",
       "      <th>1</th>\n",
       "      <td>0.10101</td>\n",
       "      <td>-8.074456</td>\n",
       "    </tr>\n",
       "    <tr>\n",
       "      <th>2</th>\n",
       "      <td>0.20202</td>\n",
       "      <td>-16.588246</td>\n",
       "    </tr>\n",
       "    <tr>\n",
       "      <th>3</th>\n",
       "      <td>0.30303</td>\n",
       "      <td>-4.275013</td>\n",
       "    </tr>\n",
       "    <tr>\n",
       "      <th>4</th>\n",
       "      <td>0.40404</td>\n",
       "      <td>-8.714275</td>\n",
       "    </tr>\n",
       "  </tbody>\n",
       "</table>\n",
       "</div>"
      ],
      "text/plain": [
       "         X          Y\n",
       "0  0.00000 -11.656137\n",
       "1  0.10101  -8.074456\n",
       "2  0.20202 -16.588246\n",
       "3  0.30303  -4.275013\n",
       "4  0.40404  -8.714275"
      ]
     },
     "execution_count": 5,
     "metadata": {},
     "output_type": "execute_result"
    }
   ],
   "source": [
    "# Exibindo as primeiras 5 linhas da tabela\n",
    "dados.head()"
   ]
  },
  {
   "cell_type": "code",
   "execution_count": 6,
   "metadata": {},
   "outputs": [
    {
     "name": "stdout",
     "output_type": "stream",
     "text": [
      "[ 0.          0.1010101   0.2020202   0.3030303   0.4040404   0.50505051\n",
      "  0.60606061  0.70707071  0.80808081  0.90909091  1.01010101  1.11111111\n",
      "  1.21212121  1.31313131  1.41414141  1.51515152  1.61616162  1.71717172\n",
      "  1.81818182  1.91919192  2.02020202  2.12121212  2.22222222  2.32323232\n",
      "  2.42424242  2.52525253  2.62626263  2.72727273  2.82828283  2.92929293\n",
      "  3.03030303  3.13131313  3.23232323  3.33333333  3.43434343  3.53535354\n",
      "  3.63636364  3.73737374  3.83838384  3.93939394  4.04040404  4.14141414\n",
      "  4.24242424  4.34343434  4.44444444  4.54545455  4.64646465  4.74747475\n",
      "  4.84848485  4.94949495  5.05050505  5.15151515  5.25252525  5.35353535\n",
      "  5.45454545  5.55555556  5.65656566  5.75757576  5.85858586  5.95959596\n",
      "  6.06060606  6.16161616  6.26262626  6.36363636  6.46464646  6.56565657\n",
      "  6.66666667  6.76767677  6.86868687  6.96969697  7.07070707  7.17171717\n",
      "  7.27272727  7.37373737  7.47474747  7.57575758  7.67676768  7.77777778\n",
      "  7.87878788  7.97979798  8.08080808  8.18181818  8.28282828  8.38383838\n",
      "  8.48484848  8.58585859  8.68686869  8.78787879  8.88888889  8.98989899\n",
      "  9.09090909  9.19191919  9.29292929  9.39393939  9.49494949  9.5959596\n",
      "  9.6969697   9.7979798   9.8989899  10.        ]\n",
      "[-11.65613664  -8.07445554 -16.58824639  -4.27501343  -8.7142751\n",
      "  -7.27926412  -3.42776022 -11.30164267  -7.9547981  -12.6162008\n",
      "  -8.97773226  -7.25863455  -6.93638596  -6.36174942  -7.78081994\n",
      "  -3.16095552  -5.54446696  -2.65603322  -7.79823451  -1.96923237\n",
      "  -6.49863734  -4.02825705  -3.70770785  -4.46919565  -3.17146386\n",
      "  -3.71036547  -5.66226407   0.55380808  -0.4893043    0.65060567\n",
      "  -0.65201824   0.84338405  -0.23866973   0.42062012  -3.44619543\n",
      "   3.18261849   0.24565981   1.72921808   2.41088819   1.82461576\n",
      "   2.07361905   3.90098163   4.25761501   5.61237483   9.0675316\n",
      "   3.60238696   3.03164127   3.7560536    7.78472926  11.32221172\n",
      "   2.26934521  10.87563827   8.529863     7.03207869   7.88166741\n",
      "  10.22677592   7.77315021  10.34845329   7.89719234   6.04948722\n",
      "   7.40248604  12.00668392  11.63199866  10.03899408  11.36397813\n",
      "  15.44498818  13.06227506  12.70582972  12.40373084  16.41347852\n",
      "  12.27555695  19.40382258  14.96474045  11.05190596  13.3189232\n",
      "  13.85571318  17.92555626  18.76498719  20.30134503  14.40598707\n",
      "  16.85580513  17.32330185  15.70723528  17.13700277  19.73721225\n",
      "  19.85677392  21.72831397  18.99528489  20.691642    20.30646131\n",
      "  23.40274801  18.05884432  23.61559938  16.8018785   23.17310729\n",
      "  18.29174836  24.35437238  27.52216178  19.85258214  25.3343426 ]\n"
     ]
    }
   ],
   "source": [
    "# Valores de X e Y\n",
    "X = dados['X'].values\n",
    "Y = dados['Y'].values\n",
    "print(X)\n",
    "print(Y)"
   ]
  },
  {
   "cell_type": "code",
   "execution_count": 5,
   "metadata": {},
   "outputs": [
    {
     "data": {
      "image/png": "[encoded data removed]",
      "text/plain": [
       "<Figure size 640x480 with 1 Axes>"
      ]
     },
     "metadata": {},
     "output_type": "display_data"
    }
   ],
   "source": [
    "# Criando um Grafico de Scatter Plot para identificar a variaveis de X e Y\n",
    "plt.scatter(X,Y,label='Y(X)');\n",
    "plt.xlabel('X');\n",
    "plt.ylabel('Y');\n",
    "plt.legend();"
   ]
  },
  {
   "attachments": {
    "image.png": {
     "image/png": "[encoded data removed]"
    }
   },
   "cell_type": "markdown",
   "metadata": {},
   "source": [
    "![image.png](attachment:image.png)"
   ]
  },
  {
   "cell_type": "code",
   "execution_count": 7,
   "metadata": {},
   "outputs": [],
   "source": [
    "# import o modelo Linear Regression\n",
    "from sklearn.linear_model import LinearRegression"
   ]
  },
  {
   "cell_type": "code",
   "execution_count": 8,
   "metadata": {},
   "outputs": [],
   "source": [
    "# Criando o DataFrame chamado modelo\n",
    "modelo = LinearRegression()"
   ]
  },
  {
   "cell_type": "code",
   "execution_count": 9,
   "metadata": {},
   "outputs": [
    {
     "name": "stdout",
     "output_type": "stream",
     "text": [
      "[[ 0.        ]\n",
      " [ 0.1010101 ]\n",
      " [ 0.2020202 ]\n",
      " [ 0.3030303 ]\n",
      " [ 0.4040404 ]\n",
      " [ 0.50505051]\n",
      " [ 0.60606061]\n",
      " [ 0.70707071]\n",
      " [ 0.80808081]\n",
      " [ 0.90909091]\n",
      " [ 1.01010101]\n",
      " [ 1.11111111]\n",
      " [ 1.21212121]\n",
      " [ 1.31313131]\n",
      " [ 1.41414141]\n",
      " [ 1.51515152]\n",
      " [ 1.61616162]\n",
      " [ 1.71717172]\n",
      " [ 1.81818182]\n",
      " [ 1.91919192]\n",
      " [ 2.02020202]\n",
      " [ 2.12121212]\n",
      " [ 2.22222222]\n",
      " [ 2.32323232]\n",
      " [ 2.42424242]\n",
      " [ 2.52525253]\n",
      " [ 2.62626263]\n",
      " [ 2.72727273]\n",
      " [ 2.82828283]\n",
      " [ 2.92929293]\n",
      " [ 3.03030303]\n",
      " [ 3.13131313]\n",
      " [ 3.23232323]\n",
      " [ 3.33333333]\n",
      " [ 3.43434343]\n",
      " [ 3.53535354]\n",
      " [ 3.63636364]\n",
      " [ 3.73737374]\n",
      " [ 3.83838384]\n",
      " [ 3.93939394]\n",
      " [ 4.04040404]\n",
      " [ 4.14141414]\n",
      " [ 4.24242424]\n",
      " [ 4.34343434]\n",
      " [ 4.44444444]\n",
      " [ 4.54545455]\n",
      " [ 4.64646465]\n",
      " [ 4.74747475]\n",
      " [ 4.84848485]\n",
      " [ 4.94949495]\n",
      " [ 5.05050505]\n",
      " [ 5.15151515]\n",
      " [ 5.25252525]\n",
      " [ 5.35353535]\n",
      " [ 5.45454545]\n",
      " [ 5.55555556]\n",
      " [ 5.65656566]\n",
      " [ 5.75757576]\n",
      " [ 5.85858586]\n",
      " [ 5.95959596]\n",
      " [ 6.06060606]\n",
      " [ 6.16161616]\n",
      " [ 6.26262626]\n",
      " [ 6.36363636]\n",
      " [ 6.46464646]\n",
      " [ 6.56565657]\n",
      " [ 6.66666667]\n",
      " [ 6.76767677]\n",
      " [ 6.86868687]\n",
      " [ 6.96969697]\n",
      " [ 7.07070707]\n",
      " [ 7.17171717]\n",
      " [ 7.27272727]\n",
      " [ 7.37373737]\n",
      " [ 7.47474747]\n",
      " [ 7.57575758]\n",
      " [ 7.67676768]\n",
      " [ 7.77777778]\n",
      " [ 7.87878788]\n",
      " [ 7.97979798]\n",
      " [ 8.08080808]\n",
      " [ 8.18181818]\n",
      " [ 8.28282828]\n",
      " [ 8.38383838]\n",
      " [ 8.48484848]\n",
      " [ 8.58585859]\n",
      " [ 8.68686869]\n",
      " [ 8.78787879]\n",
      " [ 8.88888889]\n",
      " [ 8.98989899]\n",
      " [ 9.09090909]\n",
      " [ 9.19191919]\n",
      " [ 9.29292929]\n",
      " [ 9.39393939]\n",
      " [ 9.49494949]\n",
      " [ 9.5959596 ]\n",
      " [ 9.6969697 ]\n",
      " [ 9.7979798 ]\n",
      " [ 9.8989899 ]\n",
      " [10.        ]]\n"
     ]
    }
   ],
   "source": [
    "# verificando as estruturas de X\n",
    "X = X.reshape(-1, 1)\n",
    "print(X)"
   ]
  },
  {
   "cell_type": "code",
   "execution_count": 10,
   "metadata": {},
   "outputs": [
    {
     "data": {
      "text/plain": [
       "LinearRegression()"
      ]
     },
     "execution_count": 10,
     "metadata": {},
     "output_type": "execute_result"
    }
   ],
   "source": [
    "# Serve para ajustar o modelo aos dados que estamos passando\n",
    "modelo.fit(X,Y)"
   ]
  },
  {
   "cell_type": "code",
   "execution_count": 11,
   "metadata": {},
   "outputs": [
    {
     "name": "stdout",
     "output_type": "stream",
     "text": [
      "0.9466871787492297\n"
     ]
    }
   ],
   "source": [
    "# Verificando a acuracia do modelo \n",
    "acuracia = modelo.score(X, Y)\n",
    "print(acuracia)"
   ]
  },
  {
   "cell_type": "code",
   "execution_count": 12,
   "metadata": {},
   "outputs": [
    {
     "name": "stdout",
     "output_type": "stream",
     "text": [
      "Acuracia = 0.95\n"
     ]
    }
   ],
   "source": [
    "print(\"Acuracia = {:0.2f}\".format(acuracia))"
   ]
  },
  {
   "cell_type": "code",
   "execution_count": 13,
   "metadata": {},
   "outputs": [],
   "source": [
    "# verificando o coeficiente angular\n",
    "coef_angular = modelo.coef_[0]"
   ]
  },
  {
   "cell_type": "code",
   "execution_count": 14,
   "metadata": {},
   "outputs": [],
   "source": [
    "# Verificando o coeficiente linear\n",
    "coef_linear = modelo.intercept_"
   ]
  },
  {
   "cell_type": "code",
   "execution_count": 15,
   "metadata": {},
   "outputs": [
    {
     "name": "stdout",
     "output_type": "stream",
     "text": [
      "Coeficiente angular = 3.51\n"
     ]
    }
   ],
   "source": [
    "print(\"Coeficiente angular = {:0.2f}\".format(coef_angular))"
   ]
  },
  {
   "cell_type": "code",
   "execution_count": 16,
   "metadata": {},
   "outputs": [
    {
     "name": "stdout",
     "output_type": "stream",
     "text": [
      "Coeficiente linear = -11.11\n"
     ]
    }
   ],
   "source": [
    "print(\"Coeficiente linear = {:0.2f}\".format(coef_linear))"
   ]
  },
  {
   "cell_type": "code",
   "execution_count": 17,
   "metadata": {},
   "outputs": [
    {
     "name": "stdout",
     "output_type": "stream",
     "text": [
      "[[-11.10945665]\n",
      " [-10.75447016]\n",
      " [-10.39948366]\n",
      " [-10.04449716]\n",
      " [ -9.68951066]\n",
      " [ -9.33452417]\n",
      " [ -8.97953767]\n",
      " [ -8.62455117]\n",
      " [ -8.26956467]\n",
      " [ -7.91457818]\n",
      " [ -7.55959168]\n",
      " [ -7.20460518]\n",
      " [ -6.84961868]\n",
      " [ -6.49463219]\n",
      " [ -6.13964569]\n",
      " [ -5.78465919]\n",
      " [ -5.42967269]\n",
      " [ -5.0746862 ]\n",
      " [ -4.7196997 ]\n",
      " [ -4.3647132 ]\n",
      " [ -4.0097267 ]\n",
      " [ -3.65474021]\n",
      " [ -3.29975371]\n",
      " [ -2.94476721]\n",
      " [ -2.58978071]\n",
      " [ -2.23479422]\n",
      " [ -1.87980772]\n",
      " [ -1.52482122]\n",
      " [ -1.16983472]\n",
      " [ -0.81484823]\n",
      " [ -0.45986173]\n",
      " [ -0.10487523]\n",
      " [  0.25011127]\n",
      " [  0.60509776]\n",
      " [  0.96008426]\n",
      " [  1.31507076]\n",
      " [  1.67005726]\n",
      " [  2.02504375]\n",
      " [  2.38003025]\n",
      " [  2.73501675]\n",
      " [  3.09000325]\n",
      " [  3.44498974]\n",
      " [  3.79997624]\n",
      " [  4.15496274]\n",
      " [  4.50994924]\n",
      " [  4.86493573]\n",
      " [  5.21992223]\n",
      " [  5.57490873]\n",
      " [  5.92989523]\n",
      " [  6.28488172]\n",
      " [  6.63986822]\n",
      " [  6.99485472]\n",
      " [  7.34984122]\n",
      " [  7.70482771]\n",
      " [  8.05981421]\n",
      " [  8.41480071]\n",
      " [  8.76978721]\n",
      " [  9.1247737 ]\n",
      " [  9.4797602 ]\n",
      " [  9.8347467 ]\n",
      " [ 10.18973319]\n",
      " [ 10.54471969]\n",
      " [ 10.89970619]\n",
      " [ 11.25469269]\n",
      " [ 11.60967918]\n",
      " [ 11.96466568]\n",
      " [ 12.31965218]\n",
      " [ 12.67463868]\n",
      " [ 13.02962517]\n",
      " [ 13.38461167]\n",
      " [ 13.73959817]\n",
      " [ 14.09458467]\n",
      " [ 14.44957116]\n",
      " [ 14.80455766]\n",
      " [ 15.15954416]\n",
      " [ 15.51453066]\n",
      " [ 15.86951715]\n",
      " [ 16.22450365]\n",
      " [ 16.57949015]\n",
      " [ 16.93447665]\n",
      " [ 17.28946314]\n",
      " [ 17.64444964]\n",
      " [ 17.99943614]\n",
      " [ 18.35442264]\n",
      " [ 18.70940913]\n",
      " [ 19.06439563]\n",
      " [ 19.41938213]\n",
      " [ 19.77436863]\n",
      " [ 20.12935512]\n",
      " [ 20.48434162]\n",
      " [ 20.83932812]\n",
      " [ 21.19431462]\n",
      " [ 21.54930111]\n",
      " [ 21.90428761]\n",
      " [ 22.25927411]\n",
      " [ 22.61426061]\n",
      " [ 22.9692471 ]\n",
      " [ 23.3242336 ]\n",
      " [ 23.6792201 ]\n",
      " [ 24.0342066 ]]\n"
     ]
    }
   ],
   "source": [
    "# Relacião entre os dois coeficientes\n",
    "reta = coef_angular*X+coef_linear\n",
    "print(reta)"
   ]
  },
  {
   "cell_type": "code",
   "execution_count": 18,
   "metadata": {},
   "outputs": [
    {
     "data": {
      "image/png": "[encoded data removed]",
      "text/plain": [
       "<Figure size 640x480 with 1 Axes>"
      ]
     },
     "metadata": {},
     "output_type": "display_data"
    }
   ],
   "source": [
    "# Modelo linear Scatter \n",
    "plt.scatter(X,Y,label='Y(X)');\n",
    "plt.plot(X,reta,label='Ajuste linear',color='red');\n",
    "plt.xlabel('X');\n",
    "plt.ylabel('Y');\n",
    "plt.legend();"
   ]
  },
  {
   "cell_type": "code",
   "execution_count": 18,
   "metadata": {},
   "outputs": [
    {
     "name": "stdout",
     "output_type": "stream",
     "text": [
      "MAE = 1.89\n",
      "RMSE = 2.43\n"
     ]
    }
   ],
   "source": [
    "# Gerando o resultado de MAE e RMSE\n",
    "from sklearn.metrics import mean_absolute_error,mean_squared_error\n",
    "\n",
    "MAE = mean_absolute_error(Y,reta)\n",
    "RMSE = np.sqrt(mean_squared_error(Y,reta))\n",
    "\n",
    "print(\"MAE = {:0.2f}\".format(MAE))\n",
    "print(\"RMSE = {:0.2f}\".format(RMSE))"
   ]
  },
  {
   "cell_type": "code",
   "execution_count": null,
   "metadata": {},
   "outputs": [],
   "source": []
  },
  {
   "cell_type": "code",
   "execution_count": null,
   "metadata": {},
   "outputs": [],
   "source": []
  }
 ],
 "metadata": {
  "kernelspec": {
   "display_name": "Python 3 (ipykernel)",
   "language": "python",
   "name": "python3"
  },
  "language_info": {
   "codemirror_mode": {
    "name": "ipython",
    "version": 3
   },
   "file_extension": ".py",
   "mimetype": "text/x-python",
   "name": "python",
   "nbconvert_exporter": "python",
   "pygments_lexer": "ipython3",
   "version": "3.9.13"
  }
 },
 "nbformat": 4,
 "nbformat_minor": 2
}
