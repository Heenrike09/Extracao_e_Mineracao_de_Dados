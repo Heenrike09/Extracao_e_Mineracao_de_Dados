{
 "cells": [
  {
   "cell_type": "markdown",
   "metadata": {},
   "source": [
    "# Regressão Linear - Stats Model - parte 4"
   ]
  },
  {
   "cell_type": "markdown",
   "metadata": {},
   "source": [
    "* Regressão linear utilizando a biblioteca Stats Model do Python\n",
    "* José heenrike\n",
    "* jheenrike09@gmail.com "
   ]
  },
  {
   "cell_type": "code",
   "execution_count": 1,
   "metadata": {},
   "outputs": [],
   "source": [
    "# Importando as galerias numpy, pandas e matplotlib\n",
    "import numpy as np\n",
    "import pandas as pd\n",
    "import matplotlib.pyplot as plt"
   ]
  },
  {
   "cell_type": "code",
   "execution_count": 3,
   "metadata": {},
   "outputs": [
    {
     "data": {
      "text/html": [
       "<div>\n",
       "<style scoped>\n",
       "    .dataframe tbody tr th:only-of-type {\n",
       "        vertical-align: middle;\n",
       "    }\n",
       "\n",
       "    .dataframe tbody tr th {\n",
       "        vertical-align: top;\n",
       "    }\n",
       "\n",
       "    .dataframe thead th {\n",
       "        text-align: right;\n",
       "    }\n",
       "</style>\n",
       "<table border=\"1\" class=\"dataframe\">\n",
       "  <thead>\n",
       "    <tr style=\"text-align: right;\">\n",
       "      <th></th>\n",
       "      <th>X</th>\n",
       "      <th>Y</th>\n",
       "    </tr>\n",
       "  </thead>\n",
       "  <tbody>\n",
       "    <tr>\n",
       "      <th>0</th>\n",
       "      <td>0.00000</td>\n",
       "      <td>-11.656137</td>\n",
       "    </tr>\n",
       "    <tr>\n",
       "      <th>1</th>\n",
       "      <td>0.10101</td>\n",
       "      <td>-8.074456</td>\n",
       "    </tr>\n",
       "    <tr>\n",
       "      <th>2</th>\n",
       "      <td>0.20202</td>\n",
       "      <td>-16.588246</td>\n",
       "    </tr>\n",
       "    <tr>\n",
       "      <th>3</th>\n",
       "      <td>0.30303</td>\n",
       "      <td>-4.275013</td>\n",
       "    </tr>\n",
       "    <tr>\n",
       "      <th>4</th>\n",
       "      <td>0.40404</td>\n",
       "      <td>-8.714275</td>\n",
       "    </tr>\n",
       "    <tr>\n",
       "      <th>...</th>\n",
       "      <td>...</td>\n",
       "      <td>...</td>\n",
       "    </tr>\n",
       "    <tr>\n",
       "      <th>95</th>\n",
       "      <td>9.59596</td>\n",
       "      <td>18.291748</td>\n",
       "    </tr>\n",
       "    <tr>\n",
       "      <th>96</th>\n",
       "      <td>9.69697</td>\n",
       "      <td>24.354372</td>\n",
       "    </tr>\n",
       "    <tr>\n",
       "      <th>97</th>\n",
       "      <td>9.79798</td>\n",
       "      <td>27.522162</td>\n",
       "    </tr>\n",
       "    <tr>\n",
       "      <th>98</th>\n",
       "      <td>9.89899</td>\n",
       "      <td>19.852582</td>\n",
       "    </tr>\n",
       "    <tr>\n",
       "      <th>99</th>\n",
       "      <td>10.00000</td>\n",
       "      <td>25.334343</td>\n",
       "    </tr>\n",
       "  </tbody>\n",
       "</table>\n",
       "<p>100 rows × 2 columns</p>\n",
       "</div>"
      ],
      "text/plain": [
       "           X          Y\n",
       "0    0.00000 -11.656137\n",
       "1    0.10101  -8.074456\n",
       "2    0.20202 -16.588246\n",
       "3    0.30303  -4.275013\n",
       "4    0.40404  -8.714275\n",
       "..       ...        ...\n",
       "95   9.59596  18.291748\n",
       "96   9.69697  24.354372\n",
       "97   9.79798  27.522162\n",
       "98   9.89899  19.852582\n",
       "99  10.00000  25.334343\n",
       "\n",
       "[100 rows x 2 columns]"
      ]
     },
     "execution_count": 3,
     "metadata": {},
     "output_type": "execute_result"
    }
   ],
   "source": [
    "# Criando um novo DataFrame chamados dados\n",
    "dados = pd.read_csv('Regresao_Linear.csv')\n",
    "dados"
   ]
  },
  {
   "cell_type": "code",
   "execution_count": 4,
   "metadata": {},
   "outputs": [
    {
     "data": {
      "text/html": [
       "<div>\n",
       "<style scoped>\n",
       "    .dataframe tbody tr th:only-of-type {\n",
       "        vertical-align: middle;\n",
       "    }\n",
       "\n",
       "    .dataframe tbody tr th {\n",
       "        vertical-align: top;\n",
       "    }\n",
       "\n",
       "    .dataframe thead th {\n",
       "        text-align: right;\n",
       "    }\n",
       "</style>\n",
       "<table border=\"1\" class=\"dataframe\">\n",
       "  <thead>\n",
       "    <tr style=\"text-align: right;\">\n",
       "      <th></th>\n",
       "      <th>X</th>\n",
       "      <th>Y</th>\n",
       "    </tr>\n",
       "  </thead>\n",
       "  <tbody>\n",
       "    <tr>\n",
       "      <th>0</th>\n",
       "      <td>0.00000</td>\n",
       "      <td>-11.656137</td>\n",
       "    </tr>\n",
       "    <tr>\n",
       "      <th>1</th>\n",
       "      <td>0.10101</td>\n",
       "      <td>-8.074456</td>\n",
       "    </tr>\n",
       "    <tr>\n",
       "      <th>2</th>\n",
       "      <td>0.20202</td>\n",
       "      <td>-16.588246</td>\n",
       "    </tr>\n",
       "    <tr>\n",
       "      <th>3</th>\n",
       "      <td>0.30303</td>\n",
       "      <td>-4.275013</td>\n",
       "    </tr>\n",
       "    <tr>\n",
       "      <th>4</th>\n",
       "      <td>0.40404</td>\n",
       "      <td>-8.714275</td>\n",
       "    </tr>\n",
       "  </tbody>\n",
       "</table>\n",
       "</div>"
      ],
      "text/plain": [
       "         X          Y\n",
       "0  0.00000 -11.656137\n",
       "1  0.10101  -8.074456\n",
       "2  0.20202 -16.588246\n",
       "3  0.30303  -4.275013\n",
       "4  0.40404  -8.714275"
      ]
     },
     "execution_count": 4,
     "metadata": {},
     "output_type": "execute_result"
    }
   ],
   "source": [
    "# Exibindo as primeiras 5 linhas da tabela\n",
    "dados.head()"
   ]
  },
  {
   "cell_type": "code",
   "execution_count": 5,
   "metadata": {},
   "outputs": [
    {
     "name": "stdout",
     "output_type": "stream",
     "text": [
      "[ 0.          0.1010101   0.2020202   0.3030303   0.4040404   0.50505051\n",
      "  0.60606061  0.70707071  0.80808081  0.90909091  1.01010101  1.11111111\n",
      "  1.21212121  1.31313131  1.41414141  1.51515152  1.61616162  1.71717172\n",
      "  1.81818182  1.91919192  2.02020202  2.12121212  2.22222222  2.32323232\n",
      "  2.42424242  2.52525253  2.62626263  2.72727273  2.82828283  2.92929293\n",
      "  3.03030303  3.13131313  3.23232323  3.33333333  3.43434343  3.53535354\n",
      "  3.63636364  3.73737374  3.83838384  3.93939394  4.04040404  4.14141414\n",
      "  4.24242424  4.34343434  4.44444444  4.54545455  4.64646465  4.74747475\n",
      "  4.84848485  4.94949495  5.05050505  5.15151515  5.25252525  5.35353535\n",
      "  5.45454545  5.55555556  5.65656566  5.75757576  5.85858586  5.95959596\n",
      "  6.06060606  6.16161616  6.26262626  6.36363636  6.46464646  6.56565657\n",
      "  6.66666667  6.76767677  6.86868687  6.96969697  7.07070707  7.17171717\n",
      "  7.27272727  7.37373737  7.47474747  7.57575758  7.67676768  7.77777778\n",
      "  7.87878788  7.97979798  8.08080808  8.18181818  8.28282828  8.38383838\n",
      "  8.48484848  8.58585859  8.68686869  8.78787879  8.88888889  8.98989899\n",
      "  9.09090909  9.19191919  9.29292929  9.39393939  9.49494949  9.5959596\n",
      "  9.6969697   9.7979798   9.8989899  10.        ]\n",
      "[-11.65613664  -8.07445554 -16.58824639  -4.27501343  -8.7142751\n",
      "  -7.27926412  -3.42776022 -11.30164267  -7.9547981  -12.6162008\n",
      "  -8.97773226  -7.25863455  -6.93638596  -6.36174942  -7.78081994\n",
      "  -3.16095552  -5.54446696  -2.65603322  -7.79823451  -1.96923237\n",
      "  -6.49863734  -4.02825705  -3.70770785  -4.46919565  -3.17146386\n",
      "  -3.71036547  -5.66226407   0.55380808  -0.4893043    0.65060567\n",
      "  -0.65201824   0.84338405  -0.23866973   0.42062012  -3.44619543\n",
      "   3.18261849   0.24565981   1.72921808   2.41088819   1.82461576\n",
      "   2.07361905   3.90098163   4.25761501   5.61237483   9.0675316\n",
      "   3.60238696   3.03164127   3.7560536    7.78472926  11.32221172\n",
      "   2.26934521  10.87563827   8.529863     7.03207869   7.88166741\n",
      "  10.22677592   7.77315021  10.34845329   7.89719234   6.04948722\n",
      "   7.40248604  12.00668392  11.63199866  10.03899408  11.36397813\n",
      "  15.44498818  13.06227506  12.70582972  12.40373084  16.41347852\n",
      "  12.27555695  19.40382258  14.96474045  11.05190596  13.3189232\n",
      "  13.85571318  17.92555626  18.76498719  20.30134503  14.40598707\n",
      "  16.85580513  17.32330185  15.70723528  17.13700277  19.73721225\n",
      "  19.85677392  21.72831397  18.99528489  20.691642    20.30646131\n",
      "  23.40274801  18.05884432  23.61559938  16.8018785   23.17310729\n",
      "  18.29174836  24.35437238  27.52216178  19.85258214  25.3343426 ]\n"
     ]
    }
   ],
   "source": [
    "# Valores de X e Y\n",
    "X = dados['X'].values\n",
    "Y = dados['Y'].values\n",
    "print(X)\n",
    "print(Y)"
   ]
  },
  {
   "cell_type": "code",
   "execution_count": 6,
   "metadata": {},
   "outputs": [
    {
     "data": {
      "image/png": "[encoded data removed]",
      "text/plain": [
       "<Figure size 640x480 with 1 Axes>"
      ]
     },
     "metadata": {},
     "output_type": "display_data"
    }
   ],
   "source": [
    "# Criando um Grafico de Scatter Plot para identificar a variaveis de X e Y\n",
    "plt.scatter(X,Y,label='Y(X)');\n",
    "plt.xlabel('X');\n",
    "plt.ylabel('Y');\n",
    "plt.legend();"
   ]
  },
  {
   "attachments": {
    "image.png": {
     "image/png": "[encoded data removed]"
    }
   },
   "cell_type": "markdown",
   "metadata": {},
   "source": [
    "![image.png](attachment:image.png)"
   ]
  },
  {
   "cell_type": "code",
   "execution_count": 7,
   "metadata": {},
   "outputs": [],
   "source": [
    "#Importando a stats models\n",
    "import statsmodels.api as sm"
   ]
  },
  {
   "cell_type": "code",
   "execution_count": 8,
   "metadata": {},
   "outputs": [
    {
     "name": "stdout",
     "output_type": "stream",
     "text": [
      "<statsmodels.regression.linear_model.OLS object at 0x0000019067E339D0>\n"
     ]
    }
   ],
   "source": [
    "# Variavel modelo\n",
    "modelo = sm.OLS(Y, X)\n",
    "print(modelo)"
   ]
  },
  {
   "cell_type": "code",
   "execution_count": 9,
   "metadata": {},
   "outputs": [
    {
     "name": "stdout",
     "output_type": "stream",
     "text": [
      "<statsmodels.regression.linear_model.RegressionResultsWrapper object at 0x0000019062B29580>\n"
     ]
    }
   ],
   "source": [
    "# Variavel resultado\n",
    "resultado = modelo.fit()\n",
    "print(resultado)"
   ]
  },
  {
   "cell_type": "code",
   "execution_count": 10,
   "metadata": {},
   "outputs": [
    {
     "name": "stdout",
     "output_type": "stream",
     "text": [
      "                                 OLS Regression Results                                \n",
      "=======================================================================================\n",
      "Dep. Variable:                      y   R-squared (uncentered):                   0.756\n",
      "Model:                            OLS   Adj. R-squared (uncentered):              0.754\n",
      "Method:                 Least Squares   F-statistic:                              307.0\n",
      "Date:                Tue, 12 Sep 2023   Prob (F-statistic):                    4.23e-32\n",
      "Time:                        20:38:09   Log-Likelihood:                         -322.75\n",
      "No. Observations:                 100   AIC:                                      647.5\n",
      "Df Residuals:                      99   BIC:                                      650.1\n",
      "Df Model:                           1                                                  \n",
      "Covariance Type:            nonrobust                                                  \n",
      "==============================================================================\n",
      "                 coef    std err          t      P>|t|      [0.025      0.975]\n",
      "------------------------------------------------------------------------------\n",
      "x1             1.8563      0.106     17.520      0.000       1.646       2.067\n",
      "==============================================================================\n",
      "Omnibus:                        2.224   Durbin-Watson:                   0.394\n",
      "Prob(Omnibus):                  0.329   Jarque-Bera (JB):                1.543\n",
      "Skew:                          -0.042   Prob(JB):                        0.462\n",
      "Kurtosis:                       2.397   Cond. No.                         1.00\n",
      "==============================================================================\n",
      "\n",
      "Notes:\n",
      "[1] R² is computed without centering (uncentered) since the model does not contain a constant.\n",
      "[2] Standard Errors assume that the covariance matrix of the errors is correctly specified.\n"
     ]
    }
   ],
   "source": [
    "# Resultado\n",
    "print(resultado.summary())"
   ]
  },
  {
   "cell_type": "markdown",
   "metadata": {},
   "source": [
    "Modelo precisa de um intercepto"
   ]
  },
  {
   "cell_type": "code",
   "execution_count": 11,
   "metadata": {},
   "outputs": [
    {
     "name": "stdout",
     "output_type": "stream",
     "text": [
      "[[ 1.          0.        ]\n",
      " [ 1.          0.1010101 ]\n",
      " [ 1.          0.2020202 ]\n",
      " [ 1.          0.3030303 ]\n",
      " [ 1.          0.4040404 ]\n",
      " [ 1.          0.50505051]\n",
      " [ 1.          0.60606061]\n",
      " [ 1.          0.70707071]\n",
      " [ 1.          0.80808081]\n",
      " [ 1.          0.90909091]\n",
      " [ 1.          1.01010101]\n",
      " [ 1.          1.11111111]\n",
      " [ 1.          1.21212121]\n",
      " [ 1.          1.31313131]\n",
      " [ 1.          1.41414141]\n",
      " [ 1.          1.51515152]\n",
      " [ 1.          1.61616162]\n",
      " [ 1.          1.71717172]\n",
      " [ 1.          1.81818182]\n",
      " [ 1.          1.91919192]\n",
      " [ 1.          2.02020202]\n",
      " [ 1.          2.12121212]\n",
      " [ 1.          2.22222222]\n",
      " [ 1.          2.32323232]\n",
      " [ 1.          2.42424242]\n",
      " [ 1.          2.52525253]\n",
      " [ 1.          2.62626263]\n",
      " [ 1.          2.72727273]\n",
      " [ 1.          2.82828283]\n",
      " [ 1.          2.92929293]\n",
      " [ 1.          3.03030303]\n",
      " [ 1.          3.13131313]\n",
      " [ 1.          3.23232323]\n",
      " [ 1.          3.33333333]\n",
      " [ 1.          3.43434343]\n",
      " [ 1.          3.53535354]\n",
      " [ 1.          3.63636364]\n",
      " [ 1.          3.73737374]\n",
      " [ 1.          3.83838384]\n",
      " [ 1.          3.93939394]\n",
      " [ 1.          4.04040404]\n",
      " [ 1.          4.14141414]\n",
      " [ 1.          4.24242424]\n",
      " [ 1.          4.34343434]\n",
      " [ 1.          4.44444444]\n",
      " [ 1.          4.54545455]\n",
      " [ 1.          4.64646465]\n",
      " [ 1.          4.74747475]\n",
      " [ 1.          4.84848485]\n",
      " [ 1.          4.94949495]\n",
      " [ 1.          5.05050505]\n",
      " [ 1.          5.15151515]\n",
      " [ 1.          5.25252525]\n",
      " [ 1.          5.35353535]\n",
      " [ 1.          5.45454545]\n",
      " [ 1.          5.55555556]\n",
      " [ 1.          5.65656566]\n",
      " [ 1.          5.75757576]\n",
      " [ 1.          5.85858586]\n",
      " [ 1.          5.95959596]\n",
      " [ 1.          6.06060606]\n",
      " [ 1.          6.16161616]\n",
      " [ 1.          6.26262626]\n",
      " [ 1.          6.36363636]\n",
      " [ 1.          6.46464646]\n",
      " [ 1.          6.56565657]\n",
      " [ 1.          6.66666667]\n",
      " [ 1.          6.76767677]\n",
      " [ 1.          6.86868687]\n",
      " [ 1.          6.96969697]\n",
      " [ 1.          7.07070707]\n",
      " [ 1.          7.17171717]\n",
      " [ 1.          7.27272727]\n",
      " [ 1.          7.37373737]\n",
      " [ 1.          7.47474747]\n",
      " [ 1.          7.57575758]\n",
      " [ 1.          7.67676768]\n",
      " [ 1.          7.77777778]\n",
      " [ 1.          7.87878788]\n",
      " [ 1.          7.97979798]\n",
      " [ 1.          8.08080808]\n",
      " [ 1.          8.18181818]\n",
      " [ 1.          8.28282828]\n",
      " [ 1.          8.38383838]\n",
      " [ 1.          8.48484848]\n",
      " [ 1.          8.58585859]\n",
      " [ 1.          8.68686869]\n",
      " [ 1.          8.78787879]\n",
      " [ 1.          8.88888889]\n",
      " [ 1.          8.98989899]\n",
      " [ 1.          9.09090909]\n",
      " [ 1.          9.19191919]\n",
      " [ 1.          9.29292929]\n",
      " [ 1.          9.39393939]\n",
      " [ 1.          9.49494949]\n",
      " [ 1.          9.5959596 ]\n",
      " [ 1.          9.6969697 ]\n",
      " [ 1.          9.7979798 ]\n",
      " [ 1.          9.8989899 ]\n",
      " [ 1.         10.        ]]\n"
     ]
    }
   ],
   "source": [
    "# Você pode checar a explicação através desse outro tópico: Constante 1\n",
    "X = sm.add_constant(X)\n",
    "print(X)"
   ]
  },
  {
   "cell_type": "code",
   "execution_count": 13,
   "metadata": {},
   "outputs": [
    {
     "data": {
      "text/plain": [
       "<statsmodels.regression.linear_model.OLS at 0x19067e57ee0>"
      ]
     },
     "execution_count": 13,
     "metadata": {},
     "output_type": "execute_result"
    }
   ],
   "source": [
    "#  Parâmetros do modelo de regressão linear sejam criados a partir do seu conjunto de dados\n",
    "modelo2 = sm.OLS(Y, X)\n",
    "modelo2"
   ]
  },
  {
   "cell_type": "code",
   "execution_count": 15,
   "metadata": {},
   "outputs": [],
   "source": [
    "resultado2 = modelo2.fit()"
   ]
  },
  {
   "cell_type": "code",
   "execution_count": 16,
   "metadata": {},
   "outputs": [
    {
     "name": "stdout",
     "output_type": "stream",
     "text": [
      "                            OLS Regression Results                            \n",
      "==============================================================================\n",
      "Dep. Variable:                      y   R-squared:                       0.947\n",
      "Model:                            OLS   Adj. R-squared:                  0.946\n",
      "Method:                 Least Squares   F-statistic:                     1740.\n",
      "Date:                Tue, 12 Sep 2023   Prob (F-statistic):           3.40e-64\n",
      "Time:                        20:47:54   Log-Likelihood:                -230.75\n",
      "No. Observations:                 100   AIC:                             465.5\n",
      "Df Residuals:                      98   BIC:                             470.7\n",
      "Df Model:                           1                                         \n",
      "Covariance Type:            nonrobust                                         \n",
      "==============================================================================\n",
      "                 coef    std err          t      P>|t|      [0.025      0.975]\n",
      "------------------------------------------------------------------------------\n",
      "const        -11.1095      0.488    -22.783      0.000     -12.077     -10.142\n",
      "x1             3.5144      0.084     41.716      0.000       3.347       3.682\n",
      "==============================================================================\n",
      "Omnibus:                        0.064   Durbin-Watson:                   2.476\n",
      "Prob(Omnibus):                  0.968   Jarque-Bera (JB):                0.014\n",
      "Skew:                           0.021   Prob(JB):                        0.993\n",
      "Kurtosis:                       2.962   Cond. No.                         11.7\n",
      "==============================================================================\n",
      "\n",
      "Notes:\n",
      "[1] Standard Errors assume that the covariance matrix of the errors is correctly specified.\n"
     ]
    }
   ],
   "source": [
    "print(resultado2.summary())"
   ]
  },
  {
   "cell_type": "code",
   "execution_count": 17,
   "metadata": {},
   "outputs": [],
   "source": [
    "# # Coeficiente angular e linear\n",
    "coef_linear, coef_angular = resultado2.params"
   ]
  },
  {
   "cell_type": "code",
   "execution_count": 18,
   "metadata": {},
   "outputs": [
    {
     "name": "stdout",
     "output_type": "stream",
     "text": [
      "[[ -7.59509033 -11.10945665]\n",
      " [ -7.59509033 -10.75447016]\n",
      " [ -7.59509033 -10.39948366]\n",
      " [ -7.59509033 -10.04449716]\n",
      " [ -7.59509033  -9.68951066]\n",
      " [ -7.59509033  -9.33452417]\n",
      " [ -7.59509033  -8.97953767]\n",
      " [ -7.59509033  -8.62455117]\n",
      " [ -7.59509033  -8.26956467]\n",
      " [ -7.59509033  -7.91457818]\n",
      " [ -7.59509033  -7.55959168]\n",
      " [ -7.59509033  -7.20460518]\n",
      " [ -7.59509033  -6.84961868]\n",
      " [ -7.59509033  -6.49463219]\n",
      " [ -7.59509033  -6.13964569]\n",
      " [ -7.59509033  -5.78465919]\n",
      " [ -7.59509033  -5.42967269]\n",
      " [ -7.59509033  -5.0746862 ]\n",
      " [ -7.59509033  -4.7196997 ]\n",
      " [ -7.59509033  -4.3647132 ]\n",
      " [ -7.59509033  -4.0097267 ]\n",
      " [ -7.59509033  -3.65474021]\n",
      " [ -7.59509033  -3.29975371]\n",
      " [ -7.59509033  -2.94476721]\n",
      " [ -7.59509033  -2.58978071]\n",
      " [ -7.59509033  -2.23479422]\n",
      " [ -7.59509033  -1.87980772]\n",
      " [ -7.59509033  -1.52482122]\n",
      " [ -7.59509033  -1.16983472]\n",
      " [ -7.59509033  -0.81484823]\n",
      " [ -7.59509033  -0.45986173]\n",
      " [ -7.59509033  -0.10487523]\n",
      " [ -7.59509033   0.25011127]\n",
      " [ -7.59509033   0.60509776]\n",
      " [ -7.59509033   0.96008426]\n",
      " [ -7.59509033   1.31507076]\n",
      " [ -7.59509033   1.67005726]\n",
      " [ -7.59509033   2.02504375]\n",
      " [ -7.59509033   2.38003025]\n",
      " [ -7.59509033   2.73501675]\n",
      " [ -7.59509033   3.09000325]\n",
      " [ -7.59509033   3.44498974]\n",
      " [ -7.59509033   3.79997624]\n",
      " [ -7.59509033   4.15496274]\n",
      " [ -7.59509033   4.50994924]\n",
      " [ -7.59509033   4.86493573]\n",
      " [ -7.59509033   5.21992223]\n",
      " [ -7.59509033   5.57490873]\n",
      " [ -7.59509033   5.92989523]\n",
      " [ -7.59509033   6.28488172]\n",
      " [ -7.59509033   6.63986822]\n",
      " [ -7.59509033   6.99485472]\n",
      " [ -7.59509033   7.34984122]\n",
      " [ -7.59509033   7.70482771]\n",
      " [ -7.59509033   8.05981421]\n",
      " [ -7.59509033   8.41480071]\n",
      " [ -7.59509033   8.76978721]\n",
      " [ -7.59509033   9.1247737 ]\n",
      " [ -7.59509033   9.4797602 ]\n",
      " [ -7.59509033   9.8347467 ]\n",
      " [ -7.59509033  10.18973319]\n",
      " [ -7.59509033  10.54471969]\n",
      " [ -7.59509033  10.89970619]\n",
      " [ -7.59509033  11.25469269]\n",
      " [ -7.59509033  11.60967918]\n",
      " [ -7.59509033  11.96466568]\n",
      " [ -7.59509033  12.31965218]\n",
      " [ -7.59509033  12.67463868]\n",
      " [ -7.59509033  13.02962517]\n",
      " [ -7.59509033  13.38461167]\n",
      " [ -7.59509033  13.73959817]\n",
      " [ -7.59509033  14.09458467]\n",
      " [ -7.59509033  14.44957116]\n",
      " [ -7.59509033  14.80455766]\n",
      " [ -7.59509033  15.15954416]\n",
      " [ -7.59509033  15.51453066]\n",
      " [ -7.59509033  15.86951715]\n",
      " [ -7.59509033  16.22450365]\n",
      " [ -7.59509033  16.57949015]\n",
      " [ -7.59509033  16.93447665]\n",
      " [ -7.59509033  17.28946314]\n",
      " [ -7.59509033  17.64444964]\n",
      " [ -7.59509033  17.99943614]\n",
      " [ -7.59509033  18.35442264]\n",
      " [ -7.59509033  18.70940913]\n",
      " [ -7.59509033  19.06439563]\n",
      " [ -7.59509033  19.41938213]\n",
      " [ -7.59509033  19.77436863]\n",
      " [ -7.59509033  20.12935512]\n",
      " [ -7.59509033  20.48434162]\n",
      " [ -7.59509033  20.83932812]\n",
      " [ -7.59509033  21.19431462]\n",
      " [ -7.59509033  21.54930111]\n",
      " [ -7.59509033  21.90428761]\n",
      " [ -7.59509033  22.25927411]\n",
      " [ -7.59509033  22.61426061]\n",
      " [ -7.59509033  22.9692471 ]\n",
      " [ -7.59509033  23.3242336 ]\n",
      " [ -7.59509033  23.6792201 ]\n",
      " [ -7.59509033  24.0342066 ]]\n"
     ]
    }
   ],
   "source": [
    "# Relação entre o coeficiente angular e o coeficiente linear \n",
    "reta = coef_angular*X+coef_linear\n",
    "print(reta)"
   ]
  },
  {
   "cell_type": "code",
   "execution_count": null,
   "metadata": {},
   "outputs": [],
   "source": [
    "X = X[:,1]\n",
    "reta = reta[:,1]"
   ]
  },
  {
   "cell_type": "code",
   "execution_count": 22,
   "metadata": {},
   "outputs": [
    {
     "data": {
      "image/png": "[encoded data removed]",
      "text/plain": [
       "<Figure size 640x480 with 1 Axes>"
      ]
     },
     "metadata": {},
     "output_type": "display_data"
    }
   ],
   "source": [
    "# Gerando gráfico linear\n",
    "plt.scatter(X,Y,label='Y(X)');\n",
    "plt.plot(X,reta,label='Ajuste linear',color='red');\n",
    "plt.xlabel('X');\n",
    "plt.ylabel('Y');\n",
    "plt.legend();"
   ]
  },
  {
   "cell_type": "code",
   "execution_count": 23,
   "metadata": {},
   "outputs": [
    {
     "name": "stdout",
     "output_type": "stream",
     "text": [
      "MAE = 1.89\n",
      "RMSE = 2.43\n"
     ]
    }
   ],
   "source": [
    "# Gerando o resultado de MAE e RMSE\n",
    "from sklearn.metrics import mean_absolute_error,mean_squared_error\n",
    "\n",
    "MAE = mean_absolute_error(Y,reta)\n",
    "RMSE = np.sqrt(mean_squared_error(Y,reta))\n",
    "\n",
    "print(\"MAE = {:0.2f}\".format(MAE))\n",
    "print(\"RMSE = {:0.2f}\".format(RMSE))"
   ]
  },
  {
   "cell_type": "code",
   "execution_count": null,
   "metadata": {},
   "outputs": [],
   "source": []
  }
 ],
 "metadata": {
  "kernelspec": {
   "display_name": "Python 3 (ipykernel)",
   "language": "python",
   "name": "python3"
  },
  "language_info": {
   "codemirror_mode": {
    "name": "ipython",
    "version": 3
   },
   "file_extension": ".py",
   "mimetype": "text/x-python",
   "name": "python",
   "nbconvert_exporter": "python",
   "pygments_lexer": "ipython3",
   "version": "3.9.13"
  }
 },
 "nbformat": 4,
 "nbformat_minor": 2
}
