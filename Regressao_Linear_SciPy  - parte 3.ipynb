{
 "cells": [
  {
   "cell_type": "markdown",
   "metadata": {},
   "source": [
    "# Regressão Linear - SciPy - parte 3"
   ]
  },
  {
   "cell_type": "markdown",
   "metadata": {},
   "source": [
    "* Regressão linear utilizando a biblioteca SciPy do Python\n",
    "* José Heenrike\n",
    "* jheenriek09@gmail.com "
   ]
  },
  {
   "cell_type": "code",
   "execution_count": 6,
   "metadata": {},
   "outputs": [],
   "source": [
    "# Importando as galerias numpy, pandas e matplotlib\n",
    "import numpy as np\n",
    "import pandas as pd\n",
    "import matplotlib.pyplot as plt"
   ]
  },
  {
   "cell_type": "code",
   "execution_count": 7,
   "metadata": {},
   "outputs": [],
   "source": [
    "# Criando um novo DataFrame chamados dados\n",
    "dados = pd.read_csv('Regresao_Linear.csv')"
   ]
  },
  {
   "cell_type": "code",
   "execution_count": 8,
   "metadata": {},
   "outputs": [
    {
     "data": {
      "text/html": [
       "<div>\n",
       "<style scoped>\n",
       "    .dataframe tbody tr th:only-of-type {\n",
       "        vertical-align: middle;\n",
       "    }\n",
       "\n",
       "    .dataframe tbody tr th {\n",
       "        vertical-align: top;\n",
       "    }\n",
       "\n",
       "    .dataframe thead th {\n",
       "        text-align: right;\n",
       "    }\n",
       "</style>\n",
       "<table border=\"1\" class=\"dataframe\">\n",
       "  <thead>\n",
       "    <tr style=\"text-align: right;\">\n",
       "      <th></th>\n",
       "      <th>X</th>\n",
       "      <th>Y</th>\n",
       "    </tr>\n",
       "  </thead>\n",
       "  <tbody>\n",
       "    <tr>\n",
       "      <th>0</th>\n",
       "      <td>0.00000</td>\n",
       "      <td>-11.656137</td>\n",
       "    </tr>\n",
       "    <tr>\n",
       "      <th>1</th>\n",
       "      <td>0.10101</td>\n",
       "      <td>-8.074456</td>\n",
       "    </tr>\n",
       "    <tr>\n",
       "      <th>2</th>\n",
       "      <td>0.20202</td>\n",
       "      <td>-16.588246</td>\n",
       "    </tr>\n",
       "    <tr>\n",
       "      <th>3</th>\n",
       "      <td>0.30303</td>\n",
       "      <td>-4.275013</td>\n",
       "    </tr>\n",
       "    <tr>\n",
       "      <th>4</th>\n",
       "      <td>0.40404</td>\n",
       "      <td>-8.714275</td>\n",
       "    </tr>\n",
       "  </tbody>\n",
       "</table>\n",
       "</div>"
      ],
      "text/plain": [
       "         X          Y\n",
       "0  0.00000 -11.656137\n",
       "1  0.10101  -8.074456\n",
       "2  0.20202 -16.588246\n",
       "3  0.30303  -4.275013\n",
       "4  0.40404  -8.714275"
      ]
     },
     "execution_count": 8,
     "metadata": {},
     "output_type": "execute_result"
    }
   ],
   "source": [
    "# Incluindo os valiores das colunas X e Y do DataFrame dados nas variaveis \n",
    "dados.head()"
   ]
  },
  {
   "cell_type": "code",
   "execution_count": 14,
   "metadata": {},
   "outputs": [
    {
     "name": "stdout",
     "output_type": "stream",
     "text": [
      "[ 0.          0.1010101   0.2020202   0.3030303   0.4040404   0.50505051\n",
      "  0.60606061  0.70707071  0.80808081  0.90909091  1.01010101  1.11111111\n",
      "  1.21212121  1.31313131  1.41414141  1.51515152  1.61616162  1.71717172\n",
      "  1.81818182  1.91919192  2.02020202  2.12121212  2.22222222  2.32323232\n",
      "  2.42424242  2.52525253  2.62626263  2.72727273  2.82828283  2.92929293\n",
      "  3.03030303  3.13131313  3.23232323  3.33333333  3.43434343  3.53535354\n",
      "  3.63636364  3.73737374  3.83838384  3.93939394  4.04040404  4.14141414\n",
      "  4.24242424  4.34343434  4.44444444  4.54545455  4.64646465  4.74747475\n",
      "  4.84848485  4.94949495  5.05050505  5.15151515  5.25252525  5.35353535\n",
      "  5.45454545  5.55555556  5.65656566  5.75757576  5.85858586  5.95959596\n",
      "  6.06060606  6.16161616  6.26262626  6.36363636  6.46464646  6.56565657\n",
      "  6.66666667  6.76767677  6.86868687  6.96969697  7.07070707  7.17171717\n",
      "  7.27272727  7.37373737  7.47474747  7.57575758  7.67676768  7.77777778\n",
      "  7.87878788  7.97979798  8.08080808  8.18181818  8.28282828  8.38383838\n",
      "  8.48484848  8.58585859  8.68686869  8.78787879  8.88888889  8.98989899\n",
      "  9.09090909  9.19191919  9.29292929  9.39393939  9.49494949  9.5959596\n",
      "  9.6969697   9.7979798   9.8989899  10.        ]\n"
     ]
    }
   ],
   "source": [
    "# Incluindo os valiores das colunas X e Y do DataFrame dados nas variaveis \n",
    "X = dados['X'].values\n",
    "Y = dados['Y'].values\n",
    "# Print dos valores de X\n",
    "print(X)"
   ]
  },
  {
   "cell_type": "code",
   "execution_count": 13,
   "metadata": {},
   "outputs": [
    {
     "name": "stdout",
     "output_type": "stream",
     "text": [
      "[-11.65613664  -8.07445554 -16.58824639  -4.27501343  -8.7142751\n",
      "  -7.27926412  -3.42776022 -11.30164267  -7.9547981  -12.6162008\n",
      "  -8.97773226  -7.25863455  -6.93638596  -6.36174942  -7.78081994\n",
      "  -3.16095552  -5.54446696  -2.65603322  -7.79823451  -1.96923237\n",
      "  -6.49863734  -4.02825705  -3.70770785  -4.46919565  -3.17146386\n",
      "  -3.71036547  -5.66226407   0.55380808  -0.4893043    0.65060567\n",
      "  -0.65201824   0.84338405  -0.23866973   0.42062012  -3.44619543\n",
      "   3.18261849   0.24565981   1.72921808   2.41088819   1.82461576\n",
      "   2.07361905   3.90098163   4.25761501   5.61237483   9.0675316\n",
      "   3.60238696   3.03164127   3.7560536    7.78472926  11.32221172\n",
      "   2.26934521  10.87563827   8.529863     7.03207869   7.88166741\n",
      "  10.22677592   7.77315021  10.34845329   7.89719234   6.04948722\n",
      "   7.40248604  12.00668392  11.63199866  10.03899408  11.36397813\n",
      "  15.44498818  13.06227506  12.70582972  12.40373084  16.41347852\n",
      "  12.27555695  19.40382258  14.96474045  11.05190596  13.3189232\n",
      "  13.85571318  17.92555626  18.76498719  20.30134503  14.40598707\n",
      "  16.85580513  17.32330185  15.70723528  17.13700277  19.73721225\n",
      "  19.85677392  21.72831397  18.99528489  20.691642    20.30646131\n",
      "  23.40274801  18.05884432  23.61559938  16.8018785   23.17310729\n",
      "  18.29174836  24.35437238  27.52216178  19.85258214  25.3343426 ]\n"
     ]
    }
   ],
   "source": [
    "# Print dos valores de Y\n",
    "print(Y)"
   ]
  },
  {
   "cell_type": "code",
   "execution_count": 15,
   "metadata": {},
   "outputs": [
    {
     "data": {
      "image/png": "[encoded data removed]",
      "text/plain": [
       "<Figure size 640x480 with 1 Axes>"
      ]
     },
     "metadata": {},
     "output_type": "display_data"
    }
   ],
   "source": [
    "# Criando um Grafico de Scatter Plot para identificar a variaveis de X e Y\n",
    "plt.scatter(X,Y,label='Y(X)');\n",
    "plt.xlabel('X');\n",
    "plt.ylabel('Y');\n",
    "plt.legend();"
   ]
  },
  {
   "attachments": {
    "image.png": {
     "image/png": "[encoded data removed]"
    }
   },
   "cell_type": "markdown",
   "metadata": {},
   "source": [
    "![image.png](attachment:image.png)"
   ]
  },
  {
   "cell_type": "code",
   "execution_count": 16,
   "metadata": {},
   "outputs": [],
   "source": [
    "# Importando o linregress\n",
    "from scipy.stats import linregress"
   ]
  },
  {
   "cell_type": "code",
   "execution_count": 17,
   "metadata": {},
   "outputs": [],
   "source": [
    "# Coeficiente angular e linear\n",
    "coef_angular, coef_linear,_,_,std_err = linregress(X, Y)"
   ]
  },
  {
   "cell_type": "code",
   "execution_count": 18,
   "metadata": {},
   "outputs": [
    {
     "name": "stdout",
     "output_type": "stream",
     "text": [
      "Coeficiente angular = 3.51\n"
     ]
    }
   ],
   "source": [
    "# Gerando o coeficiente angular\n",
    "print(\"Coeficiente angular = {:0.2f}\".format(coef_angular))"
   ]
  },
  {
   "cell_type": "code",
   "execution_count": 9,
   "metadata": {},
   "outputs": [
    {
     "name": "stdout",
     "output_type": "stream",
     "text": [
      "Coeficiente linear = -11.11\n"
     ]
    }
   ],
   "source": [
    "# Gerando o coeficiente linear\n",
    "print(\"Coeficiente linear = {:0.2f}\".format(coef_linear))"
   ]
  },
  {
   "cell_type": "code",
   "execution_count": 19,
   "metadata": {},
   "outputs": [
    {
     "name": "stdout",
     "output_type": "stream",
     "text": [
      "Desvio padrão = 0.08\n"
     ]
    }
   ],
   "source": [
    "# # Gerando o desvio padrão\n",
    "print(\"Desvio padrão = {:0.2f}\".format(std_err))"
   ]
  },
  {
   "cell_type": "code",
   "execution_count": 20,
   "metadata": {},
   "outputs": [
    {
     "name": "stdout",
     "output_type": "stream",
     "text": [
      "[-11.10945665 -10.75447016 -10.39948366 -10.04449716  -9.68951066\n",
      "  -9.33452417  -8.97953767  -8.62455117  -8.26956467  -7.91457818\n",
      "  -7.55959168  -7.20460518  -6.84961868  -6.49463219  -6.13964569\n",
      "  -5.78465919  -5.42967269  -5.0746862   -4.7196997   -4.3647132\n",
      "  -4.0097267   -3.65474021  -3.29975371  -2.94476721  -2.58978071\n",
      "  -2.23479422  -1.87980772  -1.52482122  -1.16983472  -0.81484823\n",
      "  -0.45986173  -0.10487523   0.25011127   0.60509776   0.96008426\n",
      "   1.31507076   1.67005726   2.02504375   2.38003025   2.73501675\n",
      "   3.09000325   3.44498974   3.79997624   4.15496274   4.50994924\n",
      "   4.86493573   5.21992223   5.57490873   5.92989523   6.28488172\n",
      "   6.63986822   6.99485472   7.34984122   7.70482771   8.05981421\n",
      "   8.41480071   8.76978721   9.1247737    9.4797602    9.8347467\n",
      "  10.18973319  10.54471969  10.89970619  11.25469269  11.60967918\n",
      "  11.96466568  12.31965218  12.67463868  13.02962517  13.38461167\n",
      "  13.73959817  14.09458467  14.44957116  14.80455766  15.15954416\n",
      "  15.51453066  15.86951715  16.22450365  16.57949015  16.93447665\n",
      "  17.28946314  17.64444964  17.99943614  18.35442264  18.70940913\n",
      "  19.06439563  19.41938213  19.77436863  20.12935512  20.48434162\n",
      "  20.83932812  21.19431462  21.54930111  21.90428761  22.25927411\n",
      "  22.61426061  22.9692471   23.3242336   23.6792201   24.0342066 ]\n"
     ]
    }
   ],
   "source": [
    "# Relação entre o coeficiente angular e o coeficiente linear \n",
    "reta = coef_angular*X+coef_linear\n",
    "print(reta)"
   ]
  },
  {
   "cell_type": "code",
   "execution_count": 22,
   "metadata": {},
   "outputs": [
    {
     "data": {
      "image/png": "[encoded data removed]",
      "text/plain": [
       "<Figure size 640x480 with 1 Axes>"
      ]
     },
     "metadata": {},
     "output_type": "display_data"
    }
   ],
   "source": [
    "# Gerando gráfico linear\n",
    "plt.scatter(X,Y,label='Y(X)');\n",
    "plt.plot(X,reta,label='Ajuste linear',color='red');\n",
    "plt.xlabel('X');\n",
    "plt.ylabel('Y');\n",
    "plt.legend();"
   ]
  },
  {
   "cell_type": "code",
   "execution_count": 21,
   "metadata": {},
   "outputs": [
    {
     "name": "stdout",
     "output_type": "stream",
     "text": [
      "MAE = 1.89\n",
      "RMSE = 2.43\n"
     ]
    }
   ],
   "source": [
    "# Gerando o resultado de MAE e RMSE\n",
    "from sklearn.metrics import mean_absolute_error,mean_squared_error\n",
    "\n",
    "MAE = mean_absolute_error(Y,reta)\n",
    "RMSE = np.sqrt(mean_squared_error(Y,reta))\n",
    "\n",
    "print(\"MAE = {:0.2f}\".format(MAE))\n",
    "print(\"RMSE = {:0.2f}\".format(RMSE))"
   ]
  },
  {
   "cell_type": "code",
   "execution_count": null,
   "metadata": {},
   "outputs": [],
   "source": []
  }
 ],
 "metadata": {
  "kernelspec": {
   "display_name": "Python 3 (ipykernel)",
   "language": "python",
   "name": "python3"
  },
  "language_info": {
   "codemirror_mode": {
    "name": "ipython",
    "version": 3
   },
   "file_extension": ".py",
   "mimetype": "text/x-python",
   "name": "python",
   "nbconvert_exporter": "python",
   "pygments_lexer": "ipython3",
   "version": "3.9.13"
  }
 },
 "nbformat": 4,
 "nbformat_minor": 2
}
